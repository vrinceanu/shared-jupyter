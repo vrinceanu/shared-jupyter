{
 "cells": [
  {
   "cell_type": "code",
   "execution_count": 24,
   "metadata": {},
   "outputs": [
    {
     "name": "stdout",
     "output_type": "stream",
     "text": [
      "the sum of the first 1000 prime numbers (up to 7919) = 3682913\n"
     ]
    }
   ],
   "source": [
    "prime_list = [2]\n",
    "i = 3\n",
    "Nx = 1000\n",
    "\n",
    "while len(prime_list) < Nx :\n",
    "    got_a_prime = True\n",
    "    for j in prime_list:\n",
    "        if i % j == 0:\n",
    "            i += 1\n",
    "            got_a_prime = False\n",
    "            break\n",
    "    if got_a_prime:\n",
    "        prime_list.append(i)\n",
    "        i += 1\n",
    "\n",
    "total = sum(prime_list)\n",
    "print(f\"the sum of the first {Nx} prime numbers (up to {prime_list[-1]}) = {total}\")"
   ]
  },
  {
   "cell_type": "code",
   "execution_count": null,
   "metadata": {},
   "outputs": [],
   "source": []
  }
 ],
 "metadata": {
  "kernelspec": {
   "display_name": "Python 3",
   "language": "python",
   "name": "python3"
  },
  "language_info": {
   "codemirror_mode": {
    "name": "ipython",
    "version": 3
   },
   "file_extension": ".py",
   "mimetype": "text/x-python",
   "name": "python",
   "nbconvert_exporter": "python",
   "pygments_lexer": "ipython3",
   "version": "3.7.9"
  }
 },
 "nbformat": 4,
 "nbformat_minor": 4
}
