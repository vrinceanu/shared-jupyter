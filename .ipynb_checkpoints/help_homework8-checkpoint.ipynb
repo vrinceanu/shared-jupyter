{
 "cells": [
  {
   "cell_type": "code",
   "execution_count": 1,
   "metadata": {},
   "outputs": [],
   "source": [
    "A = (1,1,1)\n",
    "C = (3,1,3)"
   ]
  },
  {
   "cell_type": "code",
   "execution_count": 3,
   "metadata": {},
   "outputs": [
    {
     "ename": "TypeError",
     "evalue": "unsupported operand type(s) for -: 'tuple' and 'tuple'",
     "output_type": "error",
     "traceback": [
      "\u001b[0;31m---------------------------------------------------------------------------\u001b[0m",
      "\u001b[0;31mTypeError\u001b[0m                                 Traceback (most recent call last)",
      "\u001b[0;32m<ipython-input-3-f04b55b0cae7>\u001b[0m in \u001b[0;36m<module>\u001b[0;34m\u001b[0m\n\u001b[0;32m----> 1\u001b[0;31m \u001b[0mA\u001b[0m\u001b[0;34m-\u001b[0m\u001b[0mC\u001b[0m\u001b[0;34m\u001b[0m\u001b[0;34m\u001b[0m\u001b[0m\n\u001b[0m",
      "\u001b[0;31mTypeError\u001b[0m: unsupported operand type(s) for -: 'tuple' and 'tuple'"
     ]
    }
   ],
   "source": [
    "A-C"
   ]
  },
  {
   "cell_type": "code",
   "execution_count": 4,
   "metadata": {},
   "outputs": [],
   "source": [
    "import numpy as np, matplotlib.pyplot as pl"
   ]
  },
  {
   "cell_type": "code",
   "execution_count": 5,
   "metadata": {},
   "outputs": [],
   "source": [
    "A = np.array(A)\n",
    "C = np.array(C)"
   ]
  },
  {
   "cell_type": "code",
   "execution_count": 6,
   "metadata": {},
   "outputs": [
    {
     "data": {
      "text/plain": [
       "array([4, 2, 4])"
      ]
     },
     "execution_count": 6,
     "metadata": {},
     "output_type": "execute_result"
    }
   ],
   "source": [
    "A+C"
   ]
  },
  {
   "cell_type": "code",
   "execution_count": 7,
   "metadata": {},
   "outputs": [
    {
     "data": {
      "text/plain": [
       "array([-2,  0, -2])"
      ]
     },
     "execution_count": 7,
     "metadata": {},
     "output_type": "execute_result"
    }
   ],
   "source": [
    "A-C"
   ]
  },
  {
   "cell_type": "code",
   "execution_count": 8,
   "metadata": {},
   "outputs": [
    {
     "data": {
      "text/plain": [
       "7"
      ]
     },
     "execution_count": 8,
     "metadata": {},
     "output_type": "execute_result"
    }
   ],
   "source": [
    "np.dot(A,C)"
   ]
  },
  {
   "cell_type": "code",
   "execution_count": 9,
   "metadata": {},
   "outputs": [
    {
     "data": {
      "text/plain": [
       "array([ 2,  0, -2])"
      ]
     },
     "execution_count": 9,
     "metadata": {},
     "output_type": "execute_result"
    }
   ],
   "source": [
    "np.cross(A,C)"
   ]
  },
  {
   "cell_type": "code",
   "execution_count": 10,
   "metadata": {},
   "outputs": [
    {
     "name": "stdout",
     "output_type": "stream",
     "text": [
      "Help on function cross in module numpy:\n",
      "\n",
      "cross(a, b, axisa=-1, axisb=-1, axisc=-1, axis=None)\n",
      "    Return the cross product of two (arrays of) vectors.\n",
      "    \n",
      "    The cross product of `a` and `b` in :math:`R^3` is a vector perpendicular\n",
      "    to both `a` and `b`.  If `a` and `b` are arrays of vectors, the vectors\n",
      "    are defined by the last axis of `a` and `b` by default, and these axes\n",
      "    can have dimensions 2 or 3.  Where the dimension of either `a` or `b` is\n",
      "    2, the third component of the input vector is assumed to be zero and the\n",
      "    cross product calculated accordingly.  In cases where both input vectors\n",
      "    have dimension 2, the z-component of the cross product is returned.\n",
      "    \n",
      "    Parameters\n",
      "    ----------\n",
      "    a : array_like\n",
      "        Components of the first vector(s).\n",
      "    b : array_like\n",
      "        Components of the second vector(s).\n",
      "    axisa : int, optional\n",
      "        Axis of `a` that defines the vector(s).  By default, the last axis.\n",
      "    axisb : int, optional\n",
      "        Axis of `b` that defines the vector(s).  By default, the last axis.\n",
      "    axisc : int, optional\n",
      "        Axis of `c` containing the cross product vector(s).  Ignored if\n",
      "        both input vectors have dimension 2, as the return is scalar.\n",
      "        By default, the last axis.\n",
      "    axis : int, optional\n",
      "        If defined, the axis of `a`, `b` and `c` that defines the vector(s)\n",
      "        and cross product(s).  Overrides `axisa`, `axisb` and `axisc`.\n",
      "    \n",
      "    Returns\n",
      "    -------\n",
      "    c : ndarray\n",
      "        Vector cross product(s).\n",
      "    \n",
      "    Raises\n",
      "    ------\n",
      "    ValueError\n",
      "        When the dimension of the vector(s) in `a` and/or `b` does not\n",
      "        equal 2 or 3.\n",
      "    \n",
      "    See Also\n",
      "    --------\n",
      "    inner : Inner product\n",
      "    outer : Outer product.\n",
      "    ix_ : Construct index arrays.\n",
      "    \n",
      "    Notes\n",
      "    -----\n",
      "    .. versionadded:: 1.9.0\n",
      "    \n",
      "    Supports full broadcasting of the inputs.\n",
      "    \n",
      "    Examples\n",
      "    --------\n",
      "    Vector cross-product.\n",
      "    \n",
      "    >>> x = [1, 2, 3]\n",
      "    >>> y = [4, 5, 6]\n",
      "    >>> np.cross(x, y)\n",
      "    array([-3,  6, -3])\n",
      "    \n",
      "    One vector with dimension 2.\n",
      "    \n",
      "    >>> x = [1, 2]\n",
      "    >>> y = [4, 5, 6]\n",
      "    >>> np.cross(x, y)\n",
      "    array([12, -6, -3])\n",
      "    \n",
      "    Equivalently:\n",
      "    \n",
      "    >>> x = [1, 2, 0]\n",
      "    >>> y = [4, 5, 6]\n",
      "    >>> np.cross(x, y)\n",
      "    array([12, -6, -3])\n",
      "    \n",
      "    Both vectors with dimension 2.\n",
      "    \n",
      "    >>> x = [1,2]\n",
      "    >>> y = [4,5]\n",
      "    >>> np.cross(x, y)\n",
      "    array(-3)\n",
      "    \n",
      "    Multiple vector cross-products. Note that the direction of the cross\n",
      "    product vector is defined by the `right-hand rule`.\n",
      "    \n",
      "    >>> x = np.array([[1,2,3], [4,5,6]])\n",
      "    >>> y = np.array([[4,5,6], [1,2,3]])\n",
      "    >>> np.cross(x, y)\n",
      "    array([[-3,  6, -3],\n",
      "           [ 3, -6,  3]])\n",
      "    \n",
      "    The orientation of `c` can be changed using the `axisc` keyword.\n",
      "    \n",
      "    >>> np.cross(x, y, axisc=0)\n",
      "    array([[-3,  3],\n",
      "           [ 6, -6],\n",
      "           [-3,  3]])\n",
      "    \n",
      "    Change the vector definition of `x` and `y` using `axisa` and `axisb`.\n",
      "    \n",
      "    >>> x = np.array([[1,2,3], [4,5,6], [7, 8, 9]])\n",
      "    >>> y = np.array([[7, 8, 9], [4,5,6], [1,2,3]])\n",
      "    >>> np.cross(x, y)\n",
      "    array([[ -6,  12,  -6],\n",
      "           [  0,   0,   0],\n",
      "           [  6, -12,   6]])\n",
      "    >>> np.cross(x, y, axisa=0, axisb=0)\n",
      "    array([[-24,  48, -24],\n",
      "           [-30,  60, -30],\n",
      "           [-36,  72, -36]])\n",
      "\n"
     ]
    }
   ],
   "source": [
    "help(np.cross)"
   ]
  },
  {
   "cell_type": "code",
   "execution_count": null,
   "metadata": {},
   "outputs": [],
   "source": []
  }
 ],
 "metadata": {
  "kernelspec": {
   "display_name": "Python 3",
   "language": "python",
   "name": "python3"
  },
  "language_info": {
   "codemirror_mode": {
    "name": "ipython",
    "version": 3
   },
   "file_extension": ".py",
   "mimetype": "text/x-python",
   "name": "python",
   "nbconvert_exporter": "python",
   "pygments_lexer": "ipython3",
   "version": "3.7.9"
  }
 },
 "nbformat": 4,
 "nbformat_minor": 4
}
