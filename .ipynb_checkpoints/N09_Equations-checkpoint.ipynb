{
 "cells": [
  {
   "cell_type": "markdown",
   "metadata": {},
   "source": [
    "# Nonlinear Equations and Linear Algebra\n",
    "\n",
    "Solving physics problem leads sometimes to equations that are not linear, quadratic or cubic in their  unknowns. Or even if they are linear, the number of unknown variables may be very large. \n",
    "\n",
    "Due to their nature, $\\color{orange}{\\text{nonlinear equations}}$ can have wild behavior and there is no good-for-all-cases general method that can be used to guarantee easy solutions. In most cases, developing an intuition about the qualities of the expected solutions is critical. This can be done by finding special or limit cases or by using plotting and visualization. It is always good to be in command of an arsenal of various method because this type of problem can be quite tricky. Sometimes we might not even know how many solutions are for a given equation, if there are any at all. \n",
    "\n",
    "Even more complicated, $\\color{orange}{\\text{systems of nonlinear equations}}$ with multiple variables require special attention. The strategy in this case is to reformulate the problem from find the roots for a $F(x,y,z,\\ldots)=0$ equation, or set of equations, to finding the minimum of $F(x,y,z,\\ldots)^2$. Such optimization problems benefit from more flexible and efficient method, because the roots of the equation are among the minima, maxima and other special points. This is the reason why the collection of root finding methods in `scipy` is hosted within the `optimize` package.\n",
    "\n",
    "$\\color{orange}{\\text{Systems of linear equations}}$ on the other hand are much more tamed and orderly, and have been studied extensively for a very long time. The problem there stems from the need of making solutions more efficient and stable, especially for extremely large number of unknowns. It not far fetched to end up with a 1 million by 1 million system of linear equations when solving continuum or field problems.\n",
    "\n",
    "## Relaxation Method\n",
    "\n",
    "Relaxation method works for equation of the type $x = f(x)$. Even if a given equation is not of this type, it is not hard to transform it into this form.\n",
    "\n",
    "The idea is very simple. Start with good guess  $x_0$ for the solution, calculate $x_1 = f(x_0)$, and $x_2 = f(x_1)$, and so on, until we arrive at a point when $x$ does not change any more.\n",
    "\n",
    "\n",
    "### Planck black body radiation quantum hypothesis\n",
    "We will apply the relaxation method to the equation $5 e^{-x} + x - 5 = 0$. Before doing that, let's expose the physics background of this equation.\n",
    "\n",
    "This equation relates with the theory of black body radiation. According to Planck's theory, the radiation coming from a small hole in an enclosure that contains radiation in thermal equilibrium with its walls kept at a temperature $T$ has a wavelength $\\lambda$ dependent intensity given by spectral radiance\n",
    "\n",
    "$$B(\\lambda) = \\frac{2\\pi h c^2 \\lambda^{-5}}{e^{hc/\\lambda k_B T} - 1}$$\n",
    "\n",
    "where $h$ is Planck's constant, $c$ is the speed of light, and $k_B$ is Boltzmann's constant. This equation is famous because if fits the measured spectrum of radiation of a hot object, confirming the idea that EM energy is emitted and absorbed in finite chunks (quanta). Otherwise, an exchange of arbitrary energies predicts that $B(\\lambda \\rightarrow 0) \\rightarrow \\infty$, which is not what is observed.\n",
    "\n",
    "In order to be able to study this quantity with Python we need to understand the units of this problem and try to formulate it in a dimensionless form. First, let's look a the exponential. The argument $hc/\\lambda k_B T$ has to be dimensionless. Exponent of a meter, or of seconds square does not make sense. Therefore the units of Plank's constant have to be J s. If write $x = hc/\\lambda k_B T$, then\n",
    "\n",
    "$$B = 2\\pi h c^2 \\left(\\frac{k_B T}{h c}\\right)^5 \\frac{x^5}{e^x - 1}$$\n",
    "\n",
    "By definition, the spectral radiance is Energy/Area/Time/Unit wavelength which should have SI units of J m$^{-3}$ s$^{-1}$. Therefore the quantity\n",
    "$$ \\tilde B = B\\; /\\left[h c^2 \\left(\\frac{k_B T}{h c}\\right)^5\\right]$$\n",
    "is indeed dimensionless. Please make sure and verify! \n",
    "\n",
    "The computer friendly formula is then dimensionless and easy to deal numerically:\n",
    "\n",
    "$$\\tilde B  = 2\\pi \\frac{x^5}{e^x - 1}$$\n",
    "\n",
    "Let's see how it looks:"
   ]
  },
  {
   "cell_type": "code",
   "execution_count": 2,
   "metadata": {},
   "outputs": [
    {
     "data": {
      "image/png": "[encoded data removed]",
      "text/plain": [
       "<Figure size 432x288 with 1 Axes>"
      ]
     },
     "metadata": {
      "needs_background": "light"
     },
     "output_type": "display_data"
    }
   ],
   "source": [
    "import numpy as np, matplotlib.pyplot as pl\n",
    "\n",
    "x = np.linspace(0.001,18,100)\n",
    "B = 2*np.pi*x**5/(np.exp(x) - 1)\n",
    "pl.plot(x, B);\n",
    "pl.xlabel(\"x\")\n",
    "pl.ylabel(\"$\\\\tilde B$\");"
   ]
  },
  {
   "cell_type": "markdown",
   "metadata": {},
   "source": [
    "As you can see, Planck's function behaves fine at both ends, when $x\\rightarrow \\infty$, corresponding to $\\lambda\\rightarrow 0$, and also when\n",
    "$x\\rightarrow 0$. Somewhere around the value $x^* \\approx 5$ the radiance has a maximum. This means that the color of a hot object\n",
    "$$\\lambda^* = \\frac{hc}{x^* k_B T}$$\n",
    "will shift towards smaller wavelength as the temperature increases, going from red, to yellow, to blue and violet. The *Wien displacement law* predicts that wavelength of predominant light changes as $\\lambda = b/T$. To find the *Wien* constant $b$ we need to get $x^*$, the position of the maximum of function\n",
    "$x^5/(e^{x} - 1)$, which is given as the root of its derivative:\n",
    "$$ - (5 e^{-x} + x - 5)\\frac{x^4 e^x}{(e^x-1)^2} = 0$$\n",
    "\n",
    "This leads us to the proposed equation  $5 e^{-x} + x - 5 = 0$.\n",
    "\n",
    "We can get a pretty good intuition about what happens here by representing $5e^{-x}$ and $5-x$ on the same plot. We should expect two solutions: one around $x=5$, and another one around $x=0$"
   ]
  },
  {
   "cell_type": "code",
   "execution_count": 2,
   "metadata": {},
   "outputs": [
    {
     "data": {
      "image/png": "[encoded data removed]",
      "text/plain": [
       "<Figure size 432x288 with 1 Axes>"
      ]
     },
     "metadata": {
      "needs_background": "light"
     },
     "output_type": "display_data"
    }
   ],
   "source": [
    "x = np.linspace(-1,6,100)\n",
    "y1 = 5*np.exp(-x)\n",
    "y2 = 5 - x\n",
    "pl.plot(x,y1,x,y2);"
   ]
  },
  {
   "cell_type": "markdown",
   "metadata": {},
   "source": [
    "In the relaxation method form, the equations should be $x = 5(1 - e^{-x})$. Starting from $x_0 = 4$, we converge  quickly towards a solution with at least 7 significant digits, roughly, every new iteration reveals a new digit. Not bad!"
   ]
  },
  {
   "cell_type": "code",
   "execution_count": 3,
   "metadata": {},
   "outputs": [
    {
     "name": "stdout",
     "output_type": "stream",
     "text": [
      "k = 0, x = 4.908421805556329\n",
      "k = 1, x = 4.963079336311798\n",
      "k = 2, x = 4.965043170577293\n",
      "k = 3, x = 4.96511175263279\n",
      "k = 4, x = 4.96511414525846\n",
      "k = 5, x = 4.965114228727153\n"
     ]
    }
   ],
   "source": [
    "x = 4.0\n",
    "for k in range(6):\n",
    "    x = 5*(1-np.exp(-x))\n",
    "    print(f\"k = {k}, x = {x}\")"
   ]
  },
  {
   "cell_type": "markdown",
   "metadata": {},
   "source": [
    "We can now calculate the Wiener *b* constant $b = hc/x^* k_B$"
   ]
  },
  {
   "cell_type": "code",
   "execution_count": 4,
   "metadata": {},
   "outputs": [
    {
     "name": "stdout",
     "output_type": "stream",
     "text": [
      "b = 0.0028977719569460458 m K\n"
     ]
    }
   ],
   "source": [
    "import scipy.constants as const\n",
    "b = const.Planck*const.c/x/const.Boltzmann\n",
    "print(f\"b = {b} m K\")"
   ]
  },
  {
   "cell_type": "markdown",
   "metadata": {},
   "source": [
    "This value is in a good agreement with measurements. \n",
    "\n",
    ">**Note**: the `scipy.constants` module has a carefully curated collection of physical constants and conversion factors, sufficient for most physics and chemistry calculations. However, is your duty to make sure that the units and dimensions in your calculations are consistent. The library `sympy` has a package called `physics.units` that can help in dimensional analysis, because of its abilities for symbolic manipulation.\n",
    "\n",
    "How about the other solution of the equation? It is not relevant for this problem, but in general, we need to know if we can rely on this method. If we start with $x_0$=0.2 relaxation converges to the same solution as before. If we start with -0.2, the procedure diverges dramatically."
   ]
  },
  {
   "cell_type": "code",
   "execution_count": 15,
   "metadata": {},
   "outputs": [
    {
     "name": "stdout",
     "output_type": "stream",
     "text": [
      "k = 0 x = -1.1070137908008493\n",
      "k = 1 x = -10.126553406950975\n",
      "k = 2 x = -124985.28826487045\n",
      "k = 3 x = -inf\n",
      "k = 4 x = -inf\n"
     ]
    },
    {
     "name": "stderr",
     "output_type": "stream",
     "text": [
      "/opt/jupyterhub/lib/python3.7/site-packages/ipykernel_launcher.py:3: RuntimeWarning: overflow encountered in exp\n",
      "  This is separate from the ipykernel package so we can avoid doing imports until\n"
     ]
    }
   ],
   "source": [
    "x = -0.2\n",
    "for k in range(5):\n",
    "    x = 5*(1-np.exp(-x))\n",
    "    print(f\"k = {k} x = {x}\")"
   ]
  },
  {
   "cell_type": "markdown",
   "metadata": {},
   "source": [
    "To see the reason for failure we need to investigate a little deeper into the qualities of this method.\n",
    "Assuming that the unknown root is at $x=x^*$, and that at some point in recursion we calculate $x_1  = f(x_0)$. From a Taylor's expansion around $x^*$ we see that if $x_0$ is not too far from $x^*$, then\n",
    "\n",
    "$$x_1 = f(x_0) \\approx f(x^*) + (x_0 - x^*) f'(x^*)$$\n",
    "\n",
    "which leads to \n",
    "\n",
    "$$x_1 - x^* = (x_0 - x^*) f'(x^*)$$\n",
    "\n",
    "because $f(x^*) = x^*$. This means that since $|x_1 - x^*|/|x_0 - x^*| = |f'(x^*)|$, the next iteration comes closer to the required root **only** if $|f'(x^*)| <  1$. This is exactly what happened when we started from $x=2.0$. On the other hand, if it happens that $|f'(x^*)| > 1$, then each iteration puts us further away from the target and the method fails, like in the case of starting with $x=-1.3$.\n",
    "\n",
    "The conclusion is that the relaxation method only works in certain cases. It may be possible to cleverly transform the equation into a favorable form. For example, we can use the inverse of $f$ to have $f^{-1}(x)= x$, instead of $x = f(x)$. If we define $u = f^{-1}(x)$, then $x = f(u)$. We get the derivative of the inverse, by writing  first\n",
    "\n",
    "$$\\frac{dx}{du} = f'(u)$$\n",
    "\n",
    "so that\n",
    "\n",
    "$$\\frac{du}{dx} = \\frac{1}{f'(u)} = \\frac{1}{f'(f^{-1}(x))} = \\frac{1}{f'(x^*)}$$\n",
    "\n",
    "Therefore if $f'(x^*) > 1$ then the derivative of the inverse $u'(x^*) < 1$ for sure, and the method succeeds. It is not always easy to work with an inverse, but in our case, we transform the equation to $x = -\\log(2-x)$, and converges correctly to the second solution $x=0$:"
   ]
  },
  {
   "cell_type": "code",
   "execution_count": 16,
   "metadata": {},
   "outputs": [
    {
     "name": "stdout",
     "output_type": "stream",
     "text": [
      "k = 0, x = -0.03922071315328133\n",
      "k = 1, x = -0.007813537288114663\n",
      "k = 2, x = -0.0015614877009072008\n",
      "k = 3, x = -0.0003122487854550603\n",
      "k = 4, x = -6.244780718600988e-05\n",
      "k = 5, x = -1.2489483443366923e-05\n",
      "k = 6, x = -2.497893568863714e-06\n",
      "k = 7, x = -4.995785889413377e-07\n",
      "k = 8, x = -9.991571270794191e-08\n"
     ]
    }
   ],
   "source": [
    "x = -0.2\n",
    "for k in range(9):\n",
    "    x = -np.log(1-x/5)\n",
    "    print(f\"k = {k}, x = {x}\")"
   ]
  },
  {
   "cell_type": "markdown",
   "metadata": {},
   "source": [
    "Assuming that we know that the method works, we would like to stop iterating when we are close enough to the solution, say within $10^{-6}$. We can look at the sequence of x's and stop when the difference between two consecutive values is smaller than the required accuracy. A better way is to calculate an approximation for the error from the true root. If we write $\\epsilon_0 = x_0 - x^*$ and $\\epsilon_1 = x_1 - x^*$, then we already know that $\\epsilon_1 = \\epsilon_0 f'(x^*)$. On the other hand\n",
    "\n",
    "$$x^* = x_0 + \\epsilon_0 = x_0 + \\frac{\\epsilon_1}{f'(x^*)} = x_1 + \\epsilon_1$$\n",
    "\n",
    "this allows us to evaluate the error\n",
    "\n",
    "$$\\epsilon_1 = \\frac{x_1 - x_0}{1/f'(x^*) - 1} \\approx \\frac{x_1 - x_0}{1/f'(x_1) - 1}$$\n",
    "\n",
    "If the derivative $f'(x1)$ is not easily accessible, we can a step further and obtain the next point in the sequence $x_2 = f(x_1)$, for which\n",
    "\n",
    "$$\\epsilon_2 = \\frac{x_2-x_1}{1/f'(x^*) - 1} \\approx \\frac{x_2-x_1}{1/f'(x^0) - 1}$$\n",
    "\n",
    "and approximate the derivative as\n",
    "\n",
    "$$f'(x_0) \\approx \\frac{f(x_1) - f(x_0)}{x_1 - x_0} = \\frac{x_2 - x_1}{x_1 - x_0}$$\n",
    "\n",
    "such that\n",
    "\n",
    "$$\\epsilon_2 \\approx \\frac{x_2 - x_1}{(x_1-x_0)/(x_2 - x_1) - 1} = \\frac{(x_2 - x_1)^2}{2x_1 - x_0 -x_2}$$"
   ]
  },
  {
   "cell_type": "markdown",
   "metadata": {},
   "source": [
    "## Bisection Method\n",
    "\n",
    "This method does not make any assumptions for solving an equation $f(x) = 0$, besides the continuity of $f$. As such, it is more robust than the relaxation method. If we know that f(x) has one root in the interval between $x_1$ and $x_2$, then one of the quantities $f(x_1)$ or $f(x_2)$ has to be positive, while the other one is negative. It is impossible that they are both positive or negative; in order to have a root f(x) needs to change its sign as it passes through zero. \n",
    "\n",
    "The algorithm for bisection method is guaranteed to find a root and has the following steps:\n",
    "- an interval $x_1 < x_2$ is given in which we know for sure that $f(x)$ has exactly one root\n",
    "- check that $f(x_1) \\times f(x_2) < 0$\n",
    "- calculate the midpoint $x_m = (x_1 + x_2)/2$\n",
    "- calculate $f(x_1)\\times f(x_m)$ and $f(x_m)\\times f(x_2)$ \n",
    "- if $f(x_m)$ has the same sign as $f(x_1)$ then set $x_1 = x_m$. Otherwise $x_2=x_m$\n",
    "- repeat the procedure by bracketing the root in increasingly smaller intervals\n",
    "- stop the procedure when the difference $x_2-x_1$ is smaller than the target accuracy and return $(x_1+x_2)/2$ as the final estimate of the root\n",
    "\n",
    "Bisection method does not work in the absence of some clues that we may know about the function, because in general if the function does not changes sign at the ends of an interval, it only means that there are an even number of roots within that interval. That can be zero roots, but also 2 roots, or four. If the function changes sign on the interval, we need to be sure that there is only one root in that interval, and not 3.\n",
    "There is no general strategy for solving this, and some creativity is needed based on some extra information about the problem that is solved.\n",
    "\n",
    "### Mean-field theory of ferromagnetism\n",
    "In the statistical theory of ferromagnetism we consider an ensemble of spins that interact with a magnetic field $B$ in the presence of a thermal reservoir of temperature $T$. The magnetic field tries to create order by aligning the spins, while the thermal motion works against it. At equilibrium, the net average magnetization $M$ is given by the formula\n",
    "\n",
    "$$M = \\mu \\tanh \\frac{\\mu B}{k_B T}$$\n",
    "\n",
    "where $\\mu$ is the magnetic moment of an individual spin, and hyperbolic tangent function is $\\tanh(x) = (e^x - e^{-x})/(e^{x} + e^{-x})$.\n",
    "\n",
    "Under the condition that spins interact among themselves, we can assume that they create an effective magnetic field that can sustain the alignment of the spins, even in the absence of an external $B$ field. This effective field is proportional to the net magnetization $M$. Therefore we arrive at a selfconsistent equation\n",
    "\n",
    "$$M = \\mu \\tanh \\frac {J M}{k_B T}$$\n",
    "\n",
    "where $J$ is a coupling constant measuring the amount of interaction between neighbor spins.\n",
    "Obviously, $M = 0$ is a solution for this equation, but we are looking to find any other non-trivial solution. To be able to work numerically on this problem we need to express it in a dimensionless form\n",
    "\n",
    "$$\\frac{M}{\\mu} = \\tanh \\frac{\\mu J}{k_B T} \\frac{M}{\\mu}$$\n",
    "\n",
    "So, with dimensionless $x = M/\\mu$ and $t = k_B T/\\mu J$ we need to solve the equation\n",
    "\n",
    "$$x = \\tanh \\frac{x}{t}$$\n",
    "\n",
    "From graphical representation we see that there could be solutions other than $x=0$, but only for some values of the scaled temperature $t$."
   ]
  },
  {
   "cell_type": "code",
   "execution_count": 7,
   "metadata": {},
   "outputs": [
    {
     "data": {
      "image/png": "[encoded data removed]",
      "text/plain": [
       "<Figure size 432x288 with 1 Axes>"
      ]
     },
     "metadata": {
      "needs_background": "light"
     },
     "output_type": "display_data"
    }
   ],
   "source": [
    "x = np.linspace(-2,2, 100)\n",
    "y1 = np.tanh(x)\n",
    "y2 = np.tanh(x/0.7)\n",
    "pl.plot(x, y1, x, y2, x, x)\n",
    "pl.axhline(0,color='gray', ls=\"--\", lw=0.5)\n",
    "pl.ylim(-1,1);"
   ]
  },
  {
   "cell_type": "markdown",
   "metadata": {},
   "source": [
    "The implementation of the bisection method is straight forward and we leave this as an exercise. \n",
    "\n",
    "Instead, let's use the `brentq` function from the `scipy.optimize` package. This classic method combines root bracketing, interval bisection, and inverse quadratic interpolation. This function is called with `brentq(f, a, b, optional_parameters)`, where `f` is a function of one variable, `a` and `b` are the ends of the interval of interest. This function fails if function *f* does not changes sign in the *(a,b)* interval. Tolerances and a more detailed report from the execution can be used as `optional_parameters`. The documentation tells you exactly how these options need to be used in a program, if needed."
   ]
  },
  {
   "cell_type": "code",
   "execution_count": 8,
   "metadata": {},
   "outputs": [
    {
     "data": {
      "image/png": "[encoded data removed]",
      "text/plain": [
       "<Figure size 432x288 with 1 Axes>"
      ]
     },
     "metadata": {
      "needs_background": "light"
     },
     "output_type": "display_data"
    }
   ],
   "source": [
    "import scipy.optimize\n",
    "\n",
    "def solve(t):\n",
    "    f = lambda x: x - np.tanh(x/t)\n",
    "    a = 1.e-6\n",
    "    b = 6.0\n",
    "    if np.sign(f(a)*f(b)) < 0:\n",
    "        root = scipy.optimize.brentq(f,1.e-6, 6, xtol=1.e-6)\n",
    "        return(root)\n",
    "    else:\n",
    "        return(0)\n",
    "\n",
    "t_range = np.linspace(0.1,1.5, 100)\n",
    "data = [solve(t) for t in t_range]\n",
    "pl.plot(t_range, data);\n",
    "pl.xlabel(\"scaled temperature\")\n",
    "pl.ylabel(\"magnetization\");"
   ]
  },
  {
   "cell_type": "markdown",
   "metadata": {},
   "source": [
    "This graph shows that magnetization has a non-zero value for small temperatures and becomes abruptly zero for temperatures greater than critical temperature $t_c=1$. This behavior is typical for a system that goes through a *phase transition*. A real magnetized piece of iron will indeed loose its magnetization if heated above the Curie temperature, which for Fe is 770&deg; C. When cooled down, magnetic materials reorganized themselves and gain spontaneous magnetization through macroscopic spin alignment.\n",
    "\n",
    "## Newton's Method\n",
    "\n",
    "One of the most general principles of computational science is that a numerical method that is able to use some extra specific information about the problem at hand is expected to outperform a generic method that can not not make any specific assumptions. For solving non-linear equations, we used the relaxation and bisection methods which only required a continuous function. If we know the derivative of the function, we should be able to use that in our advantage, and obtain a superior method. Newton's method, also called Newton-Raphson method uses such a strategy. Of course, it has its own shortfalls and weakness.\n",
    "\n",
    "In Newton's method we start with a guess $x_0$ and use the slope at that position to extrapolate and make another guess $x_1$, which if we are lucky will be closer to the root."
   ]
  },
  {
   "cell_type": "code",
   "execution_count": 9,
   "metadata": {},
   "outputs": [
    {
     "data": {
      "image/png": "[encoded data removed]",
      "text/plain": [
       "<Figure size 432x288 with 1 Axes>"
      ]
     },
     "metadata": {
      "needs_background": "light"
     },
     "output_type": "display_data"
    }
   ],
   "source": [
    "x = np.linspace(-0.5,3.5, 100)\n",
    "f = lambda x: np.exp(0.6*x) - 2.0\n",
    "f1 = lambda x: 0.6*np.exp(0.6*x)\n",
    "x0, xs = (3.0, 1.14)\n",
    "x1 = x0 - f(x0)/f1(x0)\n",
    "pl.plot(x,f(x))\n",
    "pl.plot((xs),(0), \"*\")\n",
    "pl.plot((x0, x1),(f(x0),f(x1)), \"o\")\n",
    "pl.plot(x, f1(x0)*(x-x1))\n",
    "pl.gca().set_aspect(0.5)\n",
    "pl.axhline(0,color=\"gray\",ls=\"--\", lw=1)\n",
    "pl.plot((x0,x0),(-0.4,5.2),color=\"gray\",ls=\"--\", lw=0.7)\n",
    "pl.plot((x1,x1),(-0.4,1.6),color=\"gray\",ls=\"--\", lw=0.7)\n",
    "pl.ylim(-1.2,6)\n",
    "pl.xlabel(\"x\")\n",
    "pl.text(x0, -0.76,\"$x_0$\",ha=\"center\")\n",
    "pl.text(x1, -0.76,\"$x_1$\",ha=\"center\")\n",
    "pl.text(-0.5,3,\"$x^*$:\\t\\troot\\n$x_0$:\\t\\tinitial guess\\n$x_1$:\\\n",
    "\\t\\tnext approximation\\n$f'(x_0)$:\\tslope of the tangent line\\n\\\n",
    "        $f'(x_0) = \\\\dfrac{f(x_0)}{x_0 - x_1}$\")\n",
    "pl.annotate(\"$f(x_0)$\",(x0, f(x0)),(x0+0.1,f(x0)));\n",
    "pl.annotate(\"$x^*$\",(xs, f(xs)),(xs,f(xs)+0.3));"
   ]
  },
  {
   "cell_type": "markdown",
   "metadata": {},
   "source": [
    "From the figure we see that the slope at $x_0$ is\n",
    "$$f'(x_0) = \\frac{f(x_0)}{x_0 - x_1}$$\n",
    "and therefore\n",
    "$$x_1 = x_0 - \\Delta x = x_0 - \\frac{f(x_0)}{f'(x_0)}$$\n",
    "\n",
    "Starting from a guess, this procedure converges quickly towards the nearest root. To see why Newton's method has a faster convergence we use again the Taylor expansion around our guess $x_0$\n",
    "\n",
    "$$f(x^*) = f(x_0) + (x^* - x_0) f'(x_0) + \\frac 12 (x^* - x_0)^2 f''(x_0)$$\n",
    "\n",
    "The left hand side of the equation vanishes because $f(x^*)=0$, and then by dividing by $f'(x_0)$ and rearranging terms we get\n",
    "\n",
    "$$x^* = \\left(x_0 - \\frac{f(x_0)}{f'(x_0)}\\right) + \\frac 12 (x^* - x_0)^2 \\frac{f''(x_0)}{f'(x_0)}$$\n",
    "\n",
    "so we see that \n",
    "\n",
    "$$x^* = x_1 +  \\frac 12 (x^* - x_0)^2 \\frac{f''(x_0)}{f'(x_0)}$$\n",
    "\n",
    "which means that our best estimate $x_1$ differs from the true root by an amount proportional to the **square** of the error at previous estimate.\n",
    "\n",
    "$$\\epsilon_1 = \\left( \\frac{-f''(x_0)}{2 f'(x_0)} \\right) \\epsilon_0^2$$\n",
    "\n",
    "where $\\epsilon_0 = x^* - x_0$ and $\\epsilon_1 = x^* - x_1$. Not only the error goes smaller from one iteration to another, but it goes there quicker. We say that Newton's method has **quadratic convergence**, as opposed to relaxation and bisection methods which have linear convergence. \n",
    "\n",
    "Asumming that the quantity $c = -f''(x)/2f'(x)$ is roughly constant in the vicinity of the root, the error $\\epsilon_N$ after $N$ iterations will be approximately $\\epsilon_N \\approx {(c\\epsilon_0)^2}^N$, where $\\epsilon_0$ is the error of the initial guess.\n",
    "\n",
    "The problem with Newton's method is that it does not work well when $f'(x) \\approx 0$. In such cases it is possible that Newton's method will diverge.\n",
    "\n",
    "### The Lagrange point\n",
    "\n",
    "The Lagrange point $L_1$ is a special point that moves together with the Moon, where the gravity from the Moon and from the Earth cancel each other. A satellite located at $L_1$ will orbit the Earth in perfect synchrony with the Moon without expending any energy\n",
    "\n",
    "To make calculation simpler, we assume that the Earth is much more massive than either the Moon or the satellite, which move along a  perfectly circular orbit. In that case, the balance of forces requires that\n",
    "\n",
    "$$\\frac{GM}{r^2} - \\frac{Gm}{(R-r)^2} = \\omega^2 r$$\n",
    "where R is the distance between the Earth and the Moon, M and m are their respective masses, and $\\omega$ is the angular velocity of both the Moon and the satellite. This is a polynomial equation of degree five in *r*, the distance between the earth and the satellite.\n",
    "\n",
    "In order to solve the equation with Python we need to transform it into a  dimensionless form, in other words, we need to consider appropriate units. If we write $r = x R$, then\n",
    "\n",
    "$$\\frac{G M}{\\omega^2 R^3} \\frac 1{x^2} - \\frac{G m}{\\omega^2 R^3} \\frac 1{(1-x)^2} = x$$\n",
    "\n",
    "Please verify that quantities $A = G M/\\omega^2 R^3$ and $a = G m/\\omega^2 R^3$ are indeed dimensionless. With this, we obtain an equation that can be use in a Python program to find its root\n",
    "\n",
    "$$f(x) = \\frac{A}{x^2} - \\frac{a}{(1-x)^2} - x$$\n",
    "\n",
    "The constants in this problem are:\n",
    "\n",
    "$G = 6.674\\times 10^{-11}$ m$^3$ kg$^{-1}$ s$^{-2}$\\\n",
    "$M = 5.974\\times 10^{24}$ kg\\\n",
    "$m = 7.348\\times 10^{22}$ kg\\\n",
    "$R = 3.844\\times 10^8$ m\\\n",
    "$\\omega = 2.662 \\times 10^{-6}$ s$^{-1}$\n",
    "\n",
    "We start by inspecting the function and confirming visually the existence of the root."
   ]
  },
  {
   "cell_type": "code",
   "execution_count": 5,
   "metadata": {},
   "outputs": [
    {
     "data": {
      "text/plain": [
       "<matplotlib.lines.Line2D at 0x7fb96478f250>"
      ]
     },
     "execution_count": 5,
     "metadata": {},
     "output_type": "execute_result"
    },
    {
     "data": {
      "image/png": "[encoded data removed]",
      "text/plain": [
       "<Figure size 432x288 with 1 Axes>"
      ]
     },
     "metadata": {
      "needs_background": "light"
     },
     "output_type": "display_data"
    }
   ],
   "source": [
    "G = 6.674e-11\n",
    "M = 5.974e24\n",
    "m = 7.348e22\n",
    "R = 3.844e8\n",
    "ω = 2.662e-6\n",
    "\n",
    "A = G*M/ω**2/R**3\n",
    "a = G*m/ω**2/R**3\n",
    "\n",
    "x = np.linspace(0.3,0.9,100)\n",
    "f = lambda x: A/x**2 - a/(1-x)**2 - x\n",
    "f1 = lambda x: -2*A/x**3 - 2*a/(1-x)**3 - 1\n",
    "pl.plot(x,f(x))\n",
    "pl.axhline(0,color=\"gray\", ls=\"--\",lw=1.)"
   ]
  },
  {
   "cell_type": "markdown",
   "metadata": {},
   "source": [
    "Let's define a solver that uses Newton's method. It requires a function, its derivative, and an initial guess. Optionally we can ask for a tolerance different from the default $10^{-6}$, and to print some details about its inner workings."
   ]
  },
  {
   "cell_type": "code",
   "execution_count": 6,
   "metadata": {},
   "outputs": [],
   "source": [
    "def newton(f, f1, x0, err = 1.e-6, show = False):\n",
    "    Δ = 1.e16\n",
    "    x = x0\n",
    "    k = 0\n",
    "    while np.abs(Δ) > err:\n",
    "        Δ = f(x)/f1(x)\n",
    "        x -= Δ\n",
    "        k += 1\n",
    "    if show:\n",
    "        return(f\"root: {x}, # iterations: {k}\")\n",
    "    else:\n",
    "        return(x)"
   ]
  },
  {
   "cell_type": "code",
   "execution_count": 7,
   "metadata": {},
   "outputs": [
    {
     "data": {
      "text/plain": [
       "0.848192173947336"
      ]
     },
     "execution_count": 7,
     "metadata": {},
     "output_type": "execute_result"
    }
   ],
   "source": [
    "newton(f, f1, 0.3,)"
   ]
  },
  {
   "cell_type": "code",
   "execution_count": 8,
   "metadata": {},
   "outputs": [
    {
     "data": {
      "text/plain": [
       "'root: 0.8481921739473346, # iterations: 9'"
      ]
     },
     "execution_count": 8,
     "metadata": {},
     "output_type": "execute_result"
    }
   ],
   "source": [
    "newton(f, f1, 0.2, err=1.e-8, show=True)"
   ]
  },
  {
   "cell_type": "markdown",
   "metadata": {},
   "source": [
    "In conclusion, we see that there is no universal procedure that can solve any nonlinear function and be used as a black box. Instead, we have an arsenal of methods with their own strengths and weaknesses. In CP, there should be a \"hammer\" for any \"nail\", and even when the problem is difficult, we can be creative and use specific features of the given problem in our advantage.\n",
    "\n",
    "## Linear Algebra\n",
    "\n",
    "One of the most encountered mathematical procedure that results from a CP problem is solving a set of linear equation. In principle, the techniques to solve this are well understood and straightforward, but as soon as we deal with more the three equations with three unknowns, the procedure becomes tedious for humans. This is job is perfectly suitable for automation, and the solution of systems of simultaneous equations is a common job for computers in physics. Being such an important task, there has been a very large amount research done in computational linear algebra. Currently, efforts go towards pushing the limits of sizes of problems that can be tackled with a computer. Solving millions of equations with millions of unknowns is common in climate simulations, weather prediction and other \"big\" problems. Specialized computer languages and software have been designed to incorporate the vast amount of knowledge accumulated in this area. Indeed, the software MATLAB is focused exactly on that. \n",
    "\n",
    "It perfectly well to use a pre-packed method from the `numpy.linalg` package that has many mature, optimized and polished solutions for most needs. There is still some value in peaking under the hood and learning some basic techniques. This can help in gauging the expectations and understanding the issues when canned software fails or has issues.\n",
    "\n",
    "An example is useful  here. Suppose we want to solve the following set of 4 equations for variables $w$, $x$, $y$, and $z$\n",
    "\n",
    "$$\n",
    "2w +  x + 4y + 4z = -4\\\\\n",
    "3w + 4x -  y -  z = 3\\\\\n",
    " w - 4x +  y + 5z = 9\\\\\n",
    "2w - 2x + 4y + 3z = 7\n",
    "$$\n",
    "\n",
    "In linear algebra we learn that the best way to deal with this is to express this problem using the language of vectors and matrices. Thus by applying the matrix-vector multiplication rules, i.e. multiply each value along a matrix raw with each value along vector's column and add all products together, we can write\n",
    "$$\n",
    "\\left(\\begin{array}{cccc}\n",
    "2 &  1 &  4 &  1 \\\\\n",
    "3 &  4 & -1 & -1 \\\\\n",
    "1 & -4 &  1 &  5 \\\\\n",
    "2 & -2 &  4 &  3 \\\\\n",
    "\\end{array}\\right) \n",
    "\\left(\\begin{array}{c} w \\\\ x \\\\ y \\\\ z \\end{array}\\right)\n",
    "=\n",
    "\\left(\\begin{array}{c} -4 \\\\ 3 \\\\ 9 \\\\ 7 \\end{array}\\right)\n",
    "$$\n",
    "\n",
    "This is helpful because we can write this as a single equation\n",
    "\n",
    "$$ {\\bf A} {\\bf x} = {\\bf v}$$\n",
    "\n",
    "where the (column) vector ${\\bf x} = (w, x, y, x)$ collects all the unknowns, and the 4x4 matrix ${\\bf A}$ and vector ${\\bf v}$ take the appropriate values.\n",
    "\n",
    "Solving this equation, and in general, any equation, means to transform it until the unknowns appear alone on the left hand side of the equality symbol. Here a possible transformation is to multiply both sides with the inverse of the matrix ${\\bf A}$ to get ${\\bf x} = {\\bf A}^{-1} v$. Although this sound like a good idea, in practice is almost never used, at least not in a serious way. Inverting the matrix ${\\bf A}$ takes a lot of operations, is inefficient and not necessary if the equations is to be solved once, for one right hand side value ${\\bf v}$.\n",
    "\n",
    "If we had to solve thousands of equations with the same ${\\bf A}$ but different ${\\bf v}$'s, then it would make sense to invert ${\\bf A}$ only once. But even for that there are better ways. The problem is that the number of flops grows as $\\sim N^3$ with the dimension $N$ of the size of the system. This is dramatic for the following reason. Imagine that you want to simulate the climate by calculating some air qualities such as temperature, humidity and wind speed, which are related by physics laws. Your simulation focuses on big volume of air. You discretize the volume using grid point, each having a set of 5 properties (temperature, humidity and 3 wind speed components). Along each dimension you use $n$ grid points, so the total number of unknowns in this problem is $5\\times n^3$, that forms the column vector of unknown. The physical laws applied to the grid point emerge under the form of a square matrix  $(5\\times n^3) \\times (5\\times n^3)$, which would require $(5\\times n^3)^3$ flops to invert. If you want to make this mesh finer and take double number of points along each direction, the calculation increases by a factor of $2^9 = 512$. In any practical setting this is not acceptable. This is why it make a big difference if we have a smarter way to solve linear equations. The best method we have today scale as $\\sim N\\log N$. If the calculation takes for example 1 hr for a grid, naive matrix inversion would take 512 hours (about 21 days), as opposed to a 8~10 hours for a more refined method.\n",
    "\n",
    "There are broadly two classes of methods for solving linear equations:\n",
    "1. methods that follow algebraic transformations to arrive at solution. All methods here have to do with Gaussian elimination and provide exact solution, if we ignore the effects of round-off errors\n",
    "1. iterative methods, similar to the relaxation method for non-linear equations, start from a guess and improve it in successive steps that eventually converge towards the solution. This kind of methods are always more efficient, but can incur truncation errors on top of round-off error.\n",
    "\n",
    "### Gaussian elimination\n",
    "\n",
    "The venerable and celebrated Gaussian method find the solution by transforming the matrix $A$ to have zero elements under its main diagonal. The following transformations don't change the solutions, but makes the system easier to solve:\n",
    "1. \n",
    "\n",
    "\n"
   ]
  },
  {
   "cell_type": "code",
   "execution_count": null,
   "metadata": {},
   "outputs": [],
   "source": []
  }
 ],
 "metadata": {
  "kernelspec": {
   "display_name": "Python 3",
   "language": "python",
   "name": "python3"
  },
  "language_info": {
   "codemirror_mode": {
    "name": "ipython",
    "version": 3
   },
   "file_extension": ".py",
   "mimetype": "text/x-python",
   "name": "python",
   "nbconvert_exporter": "python",
   "pygments_lexer": "ipython3",
   "version": "3.7.9"
  }
 },
 "nbformat": 4,
 "nbformat_minor": 4
}
