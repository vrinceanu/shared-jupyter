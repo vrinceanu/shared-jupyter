{
 "cells": [
  {
   "cell_type": "code",
   "execution_count": 1,
   "metadata": {},
   "outputs": [],
   "source": [
    "import k3d, numpy as np"
   ]
  },
  {
   "cell_type": "code",
   "execution_count": 3,
   "metadata": {},
   "outputs": [
    {
     "name": "stdout",
     "output_type": "stream",
     "text": [
      "0.42857142857142855 0.42857142857142855 1.1428571428571428\n"
     ]
    }
   ],
   "source": [
    "O = np.array((1,1,1))\n",
    "d = np.array((2,1,1))\n",
    "d1 = np.array((2,10,11))\n",
    "\n",
    "A = np.array((2,3,3))\n",
    "B = np.array((4,3,1))\n",
    "C = np.array((3,1,3))\n",
    "D = B + C - A\n",
    "\n",
    "f = B-A\n",
    "g = C-A\n",
    "h = O-A\n",
    "\n",
    "Δ = np.dot(d,np.cross(f,g))\n",
    "t = - np.dot(h,np.cross(f,g))/Δ\n",
    "u = np.dot(h,np.cross(g,d))/Δ\n",
    "v = np.dot(h,np.cross(d,f))/Δ\n",
    "P = O + t*d\n",
    "print(u, v, t)"
   ]
  },
  {
   "cell_type": "code",
   "execution_count": 4,
   "metadata": {},
   "outputs": [
    {
     "data": {
      "application/vnd.jupyter.widget-view+json": {
       "model_id": "0aecf43499da4a73ad24b64a00530825",
       "version_major": 2,
       "version_minor": 0
      },
      "text/plain": [
       "Output()"
      ]
     },
     "metadata": {},
     "output_type": "display_data"
    }
   ],
   "source": [
    "vertices = [A, B, C, D]\n",
    "indices = [[0,1,2],[1,3,2]]\n",
    "\n",
    "plot = k3d.plot()\n",
    "\n",
    "plt_points = k3d.points(positions=(O,P), point_size=0.2, color=0xff0000)\n",
    "plot += plt_points\n",
    "\n",
    "plt_mesh = k3d.mesh(vertices, indices,  color=0xf7aa19, opacity=0.8)\n",
    "plot += plt_mesh\n",
    "\n",
    "plt_line = k3d.line((O,d1/2), shader='mesh', width=0.01, color=0xff00)\n",
    "plot += plt_line\n",
    "plt_line = k3d.line((O,P+1.5*d), shader='mesh', width=0.01)\n",
    "plot += plt_line\n",
    "\n",
    "plt_vec = k3d.vectors([O],[d], line_width=0.04, head_size=2,color = 0xff00ff)\n",
    "plot += plt_vec\n",
    "\n",
    "plt_text = k3d.text('O', position=O, size=0.8, label_box=False)\n",
    "plot += plt_text\n",
    "plt_text = k3d.text('A', position=A, size=0.8, label_box=False)\n",
    "plot += plt_text\n",
    "plt_text = k3d.text('B', position=B, size=0.8, label_box=False)\n",
    "plot += plt_text\n",
    "plt_text = k3d.text('C', position=C, size=0.8, label_box=False)\n",
    "plot += plt_text\n",
    "plt_text = k3d.text('D', position=D, size=0.8, label_box=False)\n",
    "plot += plt_text\n",
    "\n",
    "\n",
    "\n",
    "plt_points.shader='3d'\n",
    "plot.lighting =2.0\n",
    "plot.display()"
   ]
  },
  {
   "cell_type": "markdown",
   "metadata": {},
   "source": [
    "\n",
    "$$P = O + t {\\vec d} = A + u(B-A) + v(C-A)$$\n",
    "\n",
    "$$u{\\vec f} + v{\\vec g} - t{\\vec d} = {\\vec h}$$\n",
    "\n",
    "$${\\vec f}\\cdot ({\\vec f}\\times{\\vec g}) = 0$$\n",
    "$${\\vec g}\\cdot ({\\vec f}\\times{\\vec g}) = 0$$\n",
    "\n",
    "$$ -t {\\vec d}\\cdot ({\\vec f}\\times{\\vec g}) = {\\vec h}\\cdot ({\\vec f}\\times{\\vec g})$$\n",
    "\n",
    "$$t = -\\frac{{\\vec h}\\cdot ({\\vec f}\\times{\\vec g})}{{\\vec d}\\cdot ({\\vec f}\\times{\\vec g})}$$"
   ]
  },
  {
   "cell_type": "code",
   "execution_count": 5,
   "metadata": {},
   "outputs": [],
   "source": [
    "def ray_intersection(O, d, A, B, C):\n",
    "    f = B-A\n",
    "    g = C-A\n",
    "    h = O-A\n",
    "    Δ = np.dot(d,np.cross(f,g))\n",
    "    t = - np.dot(h,np.cross(f,g))/Δ\n",
    "    u =   np.dot(h,np.cross(g,d))/Δ\n",
    "    v =   np.dot(h,np.cross(d,f))/Δ\n",
    "    intersect = t > 0 and u > 0 and u < 1 and v > 0 and v <1\n",
    "    if intersect :\n",
    "        return O + t*d\n",
    "    else:\n",
    "        return False"
   ]
  },
  {
   "cell_type": "code",
   "execution_count": 6,
   "metadata": {},
   "outputs": [
    {
     "name": "stdout",
     "output_type": "stream",
     "text": [
      "[3.28571429 2.14285714 2.14285714]\n",
      "False\n"
     ]
    }
   ],
   "source": [
    "print(ray_intersection(O,d,A,B,C))\n",
    "print(ray_intersection(O,d1,A,B,C))"
   ]
  },
  {
   "cell_type": "code",
   "execution_count": null,
   "metadata": {},
   "outputs": [],
   "source": []
  }
 ],
 "metadata": {
  "kernelspec": {
   "display_name": "Python 3",
   "language": "python",
   "name": "python3"
  },
  "language_info": {
   "codemirror_mode": {
    "name": "ipython",
    "version": 3
   },
   "file_extension": ".py",
   "mimetype": "text/x-python",
   "name": "python",
   "nbconvert_exporter": "python",
   "pygments_lexer": "ipython3",
   "version": "3.7.9"
  },
  "latex_envs": {
   "LaTeX_envs_menu_present": true,
   "autoclose": false,
   "autocomplete": true,
   "bibliofile": "biblio.bib",
   "cite_by": "apalike",
   "current_citInitial": 1,
   "eqLabelWithNumbers": true,
   "eqNumInitial": 1,
   "hotkeys": {
    "equation": "Ctrl-E",
    "itemize": "Ctrl-I"
   },
   "labels_anchors": false,
   "latex_user_defs": false,
   "report_style_numbering": false,
   "user_envs_cfg": false
  }
 },
 "nbformat": 4,
 "nbformat_minor": 5
}
