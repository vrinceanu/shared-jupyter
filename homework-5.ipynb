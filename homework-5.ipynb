{
 "cells": [
  {
   "cell_type": "markdown",
   "metadata": {},
   "source": [
    "**Programming assignment:**\\\n",
    "An electron passes through the plates of an electron gun, entering with a speed $v_0 = 10^6$ m/s. The distance between the plates is  $H = 1\\mu$m. The voltage difference between plates is $\\Delta V = 1\\mu$V. We are interested to calculate the travel time of the electron between plates. The electric field between plates is calculate with the formula $E = \\Delta V/H$, and therefore the electron moves with an acceleration given by $a = q E/m_e$, where $q$ and $m_e$ are the charge and the mass of the electron, respectively. The kinematic equation to be solve is therefore $$ \\frac 12 a t^2 + v_0 t = H$$\n",
    "\n",
    "This is a quadratic equation of the type $a x^2 + b x + c = 0$, for which we know the standard formula\n",
    "\n",
    "$$x = \\frac{-b \\pm \\sqrt{b^2 - 4 ac}}{2a}$$\n",
    "\n",
    "To solve this problem, you need to write a Python function that solves a general quadratic equation specified by parameters $a$, $b$, and $c$. When applied to the present problem, the naive implementation of the standard quadratic formula should fail because of catastrophic loss of precision. Show explicitly how the results for the numbers at hand differ from your expectations. To get an expectation you may need to use the useful approximation $\\sqrt{1 + \\epsilon} \\approx 1 + \\epsilon/2$\n",
    "\n",
    "To fix this deficiency, implement a second function that uses the alternate quadratic equation formula\n",
    "\n",
    "$$\n",
    "x = \\frac{2c}{-b \\pm \\sqrt{b^2 - 4 ac}}\n",
    "$$\n",
    "\n",
    "First prove that this is true, and then demonstrate that it works even in the extreme situation of this problem.\n",
    "\n",
    "------\n",
    "\n",
    "### Solution - part 1\n",
    "\n",
    "Between the two roots of the quadratic equation the root\n",
    "\n",
    "$$x = \\frac{-b + \\sqrt{b^2 - 4 ac}}{2a}$$\n",
    "\n",
    "is problematic because it may happen that $4ac \\ll b^2$ and then $\\sqrt{b^2 - 4 ac} \\approx b$ and we have a difference between numbers that are nearly equals giving wrongly that $x = 0$.  On the other hand, we can check that \n",
    "\n",
    "$$x = \\frac{2c}{-b - \\sqrt{b^2 - 4 ac}}$$ \n",
    "\n",
    "does not suffer from this round-off problems and is mathematically the same. We can verify that\n",
    "\n",
    "$$\\frac{-b + \\sqrt{b^2 - 4 ac}}{2a} = \\frac{2c}{-b - \\sqrt{b^2 - 4 ac}}$$ because\n",
    "\n",
    "$$ 4 a c = (-b + \\sqrt{b^2 - 4 ac}) (-b - \\sqrt{b^2 - 4 ac}) = - \\left[ (b^2 - 4 a c) - b^2\\right] = 4ac$$\n",
    "\n",
    "When $b$ is negative, the other root may fault, and corresponds to the other alternate root.\n",
    "\n",
    "The best way to compute the roots is to first calculate\n",
    "\n",
    "$$ q = -\\frac 12 \\left[ b + \\mbox{sgn}(b) \\sqrt{b^2 - 4 ac} \\right] $$\n",
    "\n",
    "and get $x_1 = q/a$ and $x_2 = c/q$. This is quick since square root is called only once, and also stable against round-off.\n",
    "\n",
    "Let's try on these ideas"
   ]
  },
  {
   "cell_type": "code",
   "execution_count": 3,
   "metadata": {},
   "outputs": [],
   "source": [
    "import math\n",
    "def sol_bad(a, b, c):\n",
    "    x1 = (-b + math.sqrt(b**2 - 4*a*c))/(2*a)\n",
    "    x2 = (-b - math.sqrt(b**2 - 4*a*c))/(2*a)\n",
    "    return((x1, x2))\n",
    "\n",
    "def signum(x):\n",
    "    return (x > 0) - (x < 0)\n",
    "\n",
    "def sol_good(a, b, c):\n",
    "    q = -0.5*(b + signum(b)*math.sqrt(b**2 - 4*a*c))\n",
    "    x1 = q/a\n",
    "    x2 = c/q\n",
    "    return((x1, x2))"
   ]
  },
  {
   "cell_type": "markdown",
   "metadata": {},
   "source": [
    "First on something easy:"
   ]
  },
  {
   "cell_type": "code",
   "execution_count": 4,
   "metadata": {},
   "outputs": [
    {
     "name": "stdout",
     "output_type": "stream",
     "text": [
      "(3.0, -2.0)  =?=  (3.0, -2.0)\n"
     ]
    }
   ],
   "source": [
    "a, b, c = 1.0, -1.0, -6.0\n",
    "print(sol_bad(a, b, c), \" =?= \", sol_good(a, b, c))"
   ]
  },
  {
   "cell_type": "markdown",
   "metadata": {},
   "source": [
    "then for a difficult situation"
   ]
  },
  {
   "cell_type": "code",
   "execution_count": 6,
   "metadata": {},
   "outputs": [
    {
     "name": "stdout",
     "output_type": "stream",
     "text": [
      "(1.4551915228366852e-08, -100000000.00000001)  =?=  (-100000000.00000001, 1.5e-08)\n"
     ]
    }
   ],
   "source": [
    "a, b, c = 0.002, 200_000., -0.003\n",
    "print(sol_bad(a, b, c), \" =?= \", sol_good(a, b, c))"
   ]
  },
  {
   "cell_type": "markdown",
   "metadata": {},
   "source": [
    "and, now brace for disaster"
   ]
  },
  {
   "cell_type": "code",
   "execution_count": 7,
   "metadata": {},
   "outputs": [
    {
     "name": "stdout",
     "output_type": "stream",
     "text": [
      "(0.0, -150000000.0)  =?=  (-150000000.0, 6.666666666666667e-09)\n"
     ]
    }
   ],
   "source": [
    "a, b, c = 0.002, 300_000., -0.002\n",
    "print(sol_bad(a, b, c), \" =?= \", sol_good(a, b, c))"
   ]
  },
  {
   "cell_type": "markdown",
   "metadata": {},
   "source": [
    "Hmm, ... I am starting to have doubts even about the so-called \"good\" solution. How I can be sure it is correct?\n",
    "The disaster came because this is really a corner case when $ 4 a c \\ll b^2$. In this case we can use the approximaton $\\sqrt{1 + \\epsilon} \\approx 1 + \\epsilon/2$, good for very small $\\epsilon \\ll 1$, in this way:\n",
    "\n",
    "$$ x_1 = \\frac{-b + \\sqrt{b^2 - 4 ac}}{2a} = \\frac{-b + b \\sqrt{1 - 4 ac/b^2}}{2a}\n",
    "\\approx \\frac{ -b + b (1 - 2 ac/b^2)}{2a} = -\\frac cb$$\n",
    "\n",
    "So the worst case $x_1 = - 0.002/300,000 =  6.666666666666667e-09$. So, yes, it works perfectly this time. Check it:"
   ]
  },
  {
   "cell_type": "code",
   "execution_count": 100,
   "metadata": {},
   "outputs": [
    {
     "data": {
      "text/plain": [
       "6.666666666666667e-09"
      ]
     },
     "execution_count": 100,
     "metadata": {},
     "output_type": "execute_result"
    }
   ],
   "source": [
    "-c/b"
   ]
  },
  {
   "cell_type": "markdown",
   "metadata": {},
   "source": [
    "### Solution - part 2\n",
    "\n",
    "Now we can solve the physics problem at hand with some confidence.\n",
    "We first lay out the known quantities:"
   ]
  },
  {
   "cell_type": "code",
   "execution_count": 11,
   "metadata": {},
   "outputs": [],
   "source": [
    "q = 1.602176634e-19\n",
    "m = 9.10938356e-31\n",
    "v0 = 2.e8\n",
    "H = 1.e-9\n",
    "ΔV = 1.e-9"
   ]
  },
  {
   "cell_type": "markdown",
   "metadata": {},
   "source": [
    "... calculate the coefficients for the quadratic equation for traversal time $a t^2/2 + v_0 t - H = 0$"
   ]
  },
  {
   "cell_type": "code",
   "execution_count": 12,
   "metadata": {},
   "outputs": [],
   "source": [
    "E = ΔV/H\n",
    "acc = q*E/m\n",
    "a = 0.5*acc\n",
    "b = v0\n",
    "c = -H"
   ]
  },
  {
   "cell_type": "markdown",
   "metadata": {},
   "source": [
    "... and use the solvers (bad and good) to get a solution"
   ]
  },
  {
   "cell_type": "code",
   "execution_count": 13,
   "metadata": {},
   "outputs": [
    {
     "name": "stdout",
     "output_type": "stream",
     "text": [
      "(5.083349360747667e-18, -0.0022742520060993524)\n",
      "(-0.0022742520060993524, 4.999999999999989e-18)\n"
     ]
    }
   ],
   "source": [
    "print(sol_bad(a, b, c))\n",
    "print(sol_good(a, b, c))"
   ]
  },
  {
   "cell_type": "markdown",
   "metadata": {},
   "source": [
    "The negative solution is not of interest. We can see differences starting to appear in the positive solution after 8 digits after the decimal point. So is not that bad yet. But if velocity is close to the speed of light, and the distance decrease to 1 nm and voltage to 1 nV, the result has only one digit of precision!\n",
    "\n",
    "What is the expectation for time in these extreme cases?\n",
    "\n",
    "$t \\approx - c/b = H/v_0$\n",
    "\n",
    "Charge, mass, electric field, are irrelevant, for such short times and large speeds the particle moves freely."
   ]
  },
  {
   "cell_type": "code",
   "execution_count": null,
   "metadata": {},
   "outputs": [],
   "source": []
  }
 ],
 "metadata": {
  "kernelspec": {
   "display_name": "Python 3",
   "language": "python",
   "name": "python3"
  },
  "language_info": {
   "codemirror_mode": {
    "name": "ipython",
    "version": 3
   },
   "file_extension": ".py",
   "mimetype": "text/x-python",
   "name": "python",
   "nbconvert_exporter": "python",
   "pygments_lexer": "ipython3",
   "version": "3.7.9"
  }
 },
 "nbformat": 4,
 "nbformat_minor": 4
}
