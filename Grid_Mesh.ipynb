{
 "cells": [
  {
   "cell_type": "code",
   "execution_count": 1,
   "metadata": {},
   "outputs": [],
   "source": [
    "%matplotlib inline\n",
    "%config InlineBackend.print_figure_kwargs={'bbox_inches':None}\n",
    "import numpy as np\n",
    "import matplotlib.pyplot as pl\n",
    "import matplotlib.patches as pt"
   ]
  },
  {
   "cell_type": "markdown",
   "metadata": {},
   "source": [
    "## Grids and Meshes\n",
    "\n",
    "The tradition way of calculating quantities defined over spatial extends is to get entagled with loops over grids of points using. With Python and numpy the process gets streamlined and allows writing more readable code, and more importantly, more efficient code, that can take advantage of hardware features. For example, modern GPU are very efficient in operating on massive array in hardware. Code written with numpy in this way can take advantage.\n",
    "\n",
    "\n",
    "Let's say that we are interested in calculation of a function $f(x,y)$ over some 2D domain. Take for example, \n",
    "$f(x,y) = \\sqrt(x^2 + y^2)$ in $(0,2)\\times(0,1)$ rectangle. This represents the distance to a point (x,y) from the origin.\n",
    "\n",
    "We could use a double `for` loop over x and y direction and get the result. However, it is better to use specialized tools.\n",
    "\n",
    "`arange`\n",
    "\n",
    "`linspace`\n",
    "\n",
    "`meshgrid`\n"
   ]
  },
  {
   "cell_type": "code",
   "execution_count": 12,
   "metadata": {},
   "outputs": [
    {
     "data": {
      "text/plain": [
       "Text(1.1, -0.42, 'Y = ')"
      ]
     },
     "execution_count": 12,
     "metadata": {},
     "output_type": "execute_result"
    },
    {
     "data": {
      "image/png": "[encoded data removed]",
      "text/plain": [
       "<Figure size 432x432 with 1 Axes>"
      ]
     },
     "metadata": {
      "needs_background": "light"
     },
     "output_type": "display_data"
    }
   ],
   "source": [
    "fig = pl.figure(figsize=(6,6))\n",
    "ax = fig.add_axes([0.05,0.05,0.9,0.9])\n",
    "ax.axis([-0.1,2.2,-1.1, 1.1])\n",
    "ax.axis(\"off\")\n",
    "ax.set_aspect(1)\n",
    "\n",
    "xR = np.linspace(0,1.5,4)\n",
    "yR = np.linspace(0,1-1/3, 3)\n",
    "\n",
    "for y in yR:\n",
    "    ax.plot((0,2),(y,y), color=\"gray\", lw=1)\n",
    "for x in xR:\n",
    "    ax.plot((x,x),(0,1), color=\"gray\", lw=1)\n",
    "ax.plot((0,2),(1,1), color=\"gray\", lw=1)\n",
    "ax.plot((2,2),(0,1), color=\"gray\", lw=1)    \n",
    "\n",
    "\n",
    "for i in range(4):\n",
    "    for j in range(3):\n",
    "        ax.add_patch(pt.Circle((xR[i]+1/4,yR[j]+1/6),0.02, facecolor=\"black\"))\n",
    "        ax.text(xR[i]+0.13,yR[j]+0.06,f\"$(x_{i}, y_{j})$\")\n",
    "\n",
    "ax.text(-0.1,-0.1,\"(0,0)\", fontsize=14, color=\"red\")\n",
    "ax.text(1.9,-0.1,\"(2,0)\", fontsize=14, color=\"red\")\n",
    "ax.text(1.9,1.05,\"(2,1)\", fontsize=14, color=\"red\")\n",
    "ax.text(-0.1,1.05,\"(0,1)\", fontsize=14, color=\"red\")\n",
    "\n",
    "for i in range(4):\n",
    "    for j in range(3):\n",
    "        ax.text(0.2+i*0.2,-0.5+j*0.1,f\"$x_{i}$\")\n",
    "        ax.text(1.3+i*.2,-0.5+j*0.1,f\"$y_{j}$\")\n",
    "\n",
    "ax.text(0.,-0.42,\"X = \", fontsize=14)\n",
    "ax.text(1.1,-0.42,\"Y = \", fontsize=14)"
   ]
  },
  {
   "cell_type": "code",
   "execution_count": 2,
   "metadata": {},
   "outputs": [],
   "source": [
    "import numpy as np"
   ]
  },
  {
   "cell_type": "code",
   "execution_count": 5,
   "metadata": {},
   "outputs": [],
   "source": [
    "xR = np.linspace(0, 2, 4)\n",
    "yR = np.linspace(0, 1, 3)"
   ]
  },
  {
   "cell_type": "code",
   "execution_count": 7,
   "metadata": {},
   "outputs": [],
   "source": [
    "X, Y = np.meshgrid(xR, yR)"
   ]
  },
  {
   "cell_type": "code",
   "execution_count": 8,
   "metadata": {},
   "outputs": [
    {
     "data": {
      "text/plain": [
       "array([[0.        , 0.66666667, 1.33333333, 2.        ],\n",
       "       [0.        , 0.66666667, 1.33333333, 2.        ],\n",
       "       [0.        , 0.66666667, 1.33333333, 2.        ]])"
      ]
     },
     "execution_count": 8,
     "metadata": {},
     "output_type": "execute_result"
    }
   ],
   "source": [
    "X"
   ]
  },
  {
   "cell_type": "code",
   "execution_count": 9,
   "metadata": {},
   "outputs": [
    {
     "data": {
      "text/plain": [
       "array([[0. , 0. , 0. , 0. ],\n",
       "       [0.5, 0.5, 0.5, 0.5],\n",
       "       [1. , 1. , 1. , 1. ]])"
      ]
     },
     "execution_count": 9,
     "metadata": {},
     "output_type": "execute_result"
    }
   ],
   "source": [
    "Y"
   ]
  },
  {
   "cell_type": "code",
   "execution_count": 10,
   "metadata": {},
   "outputs": [],
   "source": [
    "R = np.sqrt(X**2 + Y**2)"
   ]
  },
  {
   "cell_type": "code",
   "execution_count": 11,
   "metadata": {},
   "outputs": [
    {
     "data": {
      "text/plain": [
       "array([[0.        , 0.66666667, 1.33333333, 2.        ],\n",
       "       [0.5       , 0.83333333, 1.42400062, 2.06155281],\n",
       "       [1.        , 1.20185043, 1.66666667, 2.23606798]])"
      ]
     },
     "execution_count": 11,
     "metadata": {},
     "output_type": "execute_result"
    }
   ],
   "source": [
    "R"
   ]
  },
  {
   "cell_type": "code",
   "execution_count": 17,
   "metadata": {},
   "outputs": [],
   "source": [
    "Z = R > 0.7"
   ]
  },
  {
   "cell_type": "code",
   "execution_count": 15,
   "metadata": {},
   "outputs": [],
   "source": [
    "import matplotlib.pyplot as pl"
   ]
  },
  {
   "cell_type": "code",
   "execution_count": 18,
   "metadata": {},
   "outputs": [
    {
     "data": {
      "text/plain": [
       "<matplotlib.image.AxesImage at 0x7ffbb3e07350>"
      ]
     },
     "execution_count": 18,
     "metadata": {},
     "output_type": "execute_result"
    },
    {
     "data": {
      "image/png": "[encoded data removed]",
      "text/plain": [
       "<Figure size 432x288 with 1 Axes>"
      ]
     },
     "metadata": {
      "needs_background": "light"
     },
     "output_type": "display_data"
    }
   ],
   "source": [
    "pl.imshow(Z)"
   ]
  },
  {
   "cell_type": "code",
   "execution_count": null,
   "metadata": {},
   "outputs": [],
   "source": []
  }
 ],
 "metadata": {
  "kernelspec": {
   "display_name": "Python 3",
   "language": "python",
   "name": "python3"
  },
  "language_info": {
   "codemirror_mode": {
    "name": "ipython",
    "version": 3
   },
   "file_extension": ".py",
   "mimetype": "text/x-python",
   "name": "python",
   "nbconvert_exporter": "python",
   "pygments_lexer": "ipython3",
   "version": "3.7.9"
  }
 },
 "nbformat": 4,
 "nbformat_minor": 4
}
